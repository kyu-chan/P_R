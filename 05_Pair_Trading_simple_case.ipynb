{
 "cells": [
  {
   "cell_type": "code",
   "execution_count": 1,
   "metadata": {},
   "outputs": [],
   "source": [
    "import matplotlib.pyplot as plt\n",
    "import pandas as pd\n",
    "import sys\n",
    "import os\n",
    "import matplotlib as pt\n",
    "import pykrx\n",
    "pt.use(\"Qt5Agg\") ##플랏\n",
    "sys.path.append(r'C:\\Users\\pc\\Desktop\\stock\\P_R\\wrapper')\n",
    "from wrapper import data_pred\n",
    "from wrapper import trading\n",
    "from wrapper import visualization"
   ]
  },
  {
   "cell_type": "code",
   "execution_count": 2,
   "metadata": {},
   "outputs": [
    {
     "data": {
      "text/html": [
       "<div>\n",
       "<style scoped>\n",
       "    .dataframe tbody tr th:only-of-type {\n",
       "        vertical-align: middle;\n",
       "    }\n",
       "\n",
       "    .dataframe tbody tr th {\n",
       "        vertical-align: top;\n",
       "    }\n",
       "\n",
       "    .dataframe thead th {\n",
       "        text-align: right;\n",
       "    }\n",
       "</style>\n",
       "<table border=\"1\" class=\"dataframe\">\n",
       "  <thead>\n",
       "    <tr style=\"text-align: right;\">\n",
       "      <th></th>\n",
       "      <th>S&amp;P500</th>\n",
       "      <th>KOSPI200</th>\n",
       "    </tr>\n",
       "    <tr>\n",
       "      <th>Date</th>\n",
       "      <th></th>\n",
       "      <th></th>\n",
       "    </tr>\n",
       "  </thead>\n",
       "  <tbody>\n",
       "    <tr>\n",
       "      <th>2008-01-02</th>\n",
       "      <td>1,447.16</td>\n",
       "      <td>235.30</td>\n",
       "    </tr>\n",
       "    <tr>\n",
       "      <th>2008-01-03</th>\n",
       "      <td>1,447.16</td>\n",
       "      <td>234.67</td>\n",
       "    </tr>\n",
       "    <tr>\n",
       "      <th>2008-01-04</th>\n",
       "      <td>1,411.63</td>\n",
       "      <td>235.77</td>\n",
       "    </tr>\n",
       "    <tr>\n",
       "      <th>2008-01-07</th>\n",
       "      <td>1,416.18</td>\n",
       "      <td>231.00</td>\n",
       "    </tr>\n",
       "    <tr>\n",
       "      <th>2008-01-08</th>\n",
       "      <td>1,390.19</td>\n",
       "      <td>230.34</td>\n",
       "    </tr>\n",
       "    <tr>\n",
       "      <th>...</th>\n",
       "      <td>...</td>\n",
       "      <td>...</td>\n",
       "    </tr>\n",
       "    <tr>\n",
       "      <th>2017-12-22</th>\n",
       "      <td>2,683.34</td>\n",
       "      <td>321.21</td>\n",
       "    </tr>\n",
       "    <tr>\n",
       "      <th>2017-12-26</th>\n",
       "      <td>2,680.50</td>\n",
       "      <td>318.89</td>\n",
       "    </tr>\n",
       "    <tr>\n",
       "      <th>2017-12-27</th>\n",
       "      <td>2,682.62</td>\n",
       "      <td>320.25</td>\n",
       "    </tr>\n",
       "    <tr>\n",
       "      <th>2017-12-28</th>\n",
       "      <td>2,687.54</td>\n",
       "      <td>324.74</td>\n",
       "    </tr>\n",
       "    <tr>\n",
       "      <th>2017-12-29</th>\n",
       "      <td>2,673.61</td>\n",
       "      <td>324.74</td>\n",
       "    </tr>\n",
       "  </tbody>\n",
       "</table>\n",
       "<p>2592 rows × 2 columns</p>\n",
       "</div>"
      ],
      "text/plain": [
       "             S&P500  KOSPI200\n",
       "Date                         \n",
       "2008-01-02 1,447.16    235.30\n",
       "2008-01-03 1,447.16    234.67\n",
       "2008-01-04 1,411.63    235.77\n",
       "2008-01-07 1,416.18    231.00\n",
       "2008-01-08 1,390.19    230.34\n",
       "...             ...       ...\n",
       "2017-12-22 2,683.34    321.21\n",
       "2017-12-26 2,680.50    318.89\n",
       "2017-12-27 2,682.62    320.25\n",
       "2017-12-28 2,687.54    324.74\n",
       "2017-12-29 2,673.61    324.74\n",
       "\n",
       "[2592 rows x 2 columns]"
      ]
     },
     "execution_count": 2,
     "metadata": {},
     "output_type": "execute_result"
    }
   ],
   "source": [
    "path = 'C:/Users/pc/Desktop/stock/Modeling/Basic/data/'\n",
    "file_name = path+'Regression.csv'\n",
    "df = pd.read_csv(file_name, index_col='Date')\n",
    "df"
   ]
  },
  {
   "cell_type": "code",
   "execution_count": 3,
   "metadata": {},
   "outputs": [
    {
     "name": "stdout",
     "output_type": "stream",
     "text": [
      "<class 'pandas.core.frame.DataFrame'>\n",
      "Index: 2592 entries, 2008-01-02 to 2017-12-29\n",
      "Data columns (total 2 columns):\n",
      " #   Column    Non-Null Count  Dtype  \n",
      "---  ------    --------------  -----  \n",
      " 0   S&P500    2592 non-null   float64\n",
      " 1   KOSPI200  2592 non-null   float64\n",
      "dtypes: float64(2)\n",
      "memory usage: 60.8+ KB\n"
     ]
    }
   ],
   "source": [
    "df.info()"
   ]
  },
  {
   "cell_type": "markdown",
   "metadata": {},
   "source": [
    "# Kospi를 y로 linear regression을 써서 추정하고 전략구사해보자"
   ]
  },
  {
   "cell_type": "markdown",
   "metadata": {},
   "source": [
    "#### cubic regression\n",
    "#### kernel function을 이용하여 빳빳하지 않은 regression을 적용할 수 없을까?\n",
    "#### 오버피팅정도를 수치화 할 수 없을까??"
   ]
  },
  {
   "cell_type": "code",
   "execution_count": 4,
   "metadata": {},
   "outputs": [],
   "source": [
    "ld = data_pred.LoadData()\n",
    "df = ld.date_formatting(df)"
   ]
  },
  {
   "cell_type": "code",
   "execution_count": 5,
   "metadata": {},
   "outputs": [
    {
     "data": {
      "text/html": [
       "<div>\n",
       "<style scoped>\n",
       "    .dataframe tbody tr th:only-of-type {\n",
       "        vertical-align: middle;\n",
       "    }\n",
       "\n",
       "    .dataframe tbody tr th {\n",
       "        vertical-align: top;\n",
       "    }\n",
       "\n",
       "    .dataframe thead th {\n",
       "        text-align: right;\n",
       "    }\n",
       "</style>\n",
       "<table border=\"1\" class=\"dataframe\">\n",
       "  <thead>\n",
       "    <tr style=\"text-align: right;\">\n",
       "      <th></th>\n",
       "      <th>S&amp;P500</th>\n",
       "      <th>KOSPI200</th>\n",
       "    </tr>\n",
       "    <tr>\n",
       "      <th>Date</th>\n",
       "      <th></th>\n",
       "      <th></th>\n",
       "    </tr>\n",
       "  </thead>\n",
       "  <tbody>\n",
       "    <tr>\n",
       "      <th>2008-01-02</th>\n",
       "      <td>1,447.16</td>\n",
       "      <td>235.30</td>\n",
       "    </tr>\n",
       "    <tr>\n",
       "      <th>2008-01-03</th>\n",
       "      <td>1,447.16</td>\n",
       "      <td>234.67</td>\n",
       "    </tr>\n",
       "    <tr>\n",
       "      <th>2008-01-04</th>\n",
       "      <td>1,411.63</td>\n",
       "      <td>235.77</td>\n",
       "    </tr>\n",
       "    <tr>\n",
       "      <th>2008-01-07</th>\n",
       "      <td>1,416.18</td>\n",
       "      <td>231.00</td>\n",
       "    </tr>\n",
       "    <tr>\n",
       "      <th>2008-01-08</th>\n",
       "      <td>1,390.19</td>\n",
       "      <td>230.34</td>\n",
       "    </tr>\n",
       "    <tr>\n",
       "      <th>...</th>\n",
       "      <td>...</td>\n",
       "      <td>...</td>\n",
       "    </tr>\n",
       "    <tr>\n",
       "      <th>2017-12-22</th>\n",
       "      <td>2,683.34</td>\n",
       "      <td>321.21</td>\n",
       "    </tr>\n",
       "    <tr>\n",
       "      <th>2017-12-26</th>\n",
       "      <td>2,680.50</td>\n",
       "      <td>318.89</td>\n",
       "    </tr>\n",
       "    <tr>\n",
       "      <th>2017-12-27</th>\n",
       "      <td>2,682.62</td>\n",
       "      <td>320.25</td>\n",
       "    </tr>\n",
       "    <tr>\n",
       "      <th>2017-12-28</th>\n",
       "      <td>2,687.54</td>\n",
       "      <td>324.74</td>\n",
       "    </tr>\n",
       "    <tr>\n",
       "      <th>2017-12-29</th>\n",
       "      <td>2,673.61</td>\n",
       "      <td>324.74</td>\n",
       "    </tr>\n",
       "  </tbody>\n",
       "</table>\n",
       "<p>2592 rows × 2 columns</p>\n",
       "</div>"
      ],
      "text/plain": [
       "             S&P500  KOSPI200\n",
       "Date                         \n",
       "2008-01-02 1,447.16    235.30\n",
       "2008-01-03 1,447.16    234.67\n",
       "2008-01-04 1,411.63    235.77\n",
       "2008-01-07 1,416.18    231.00\n",
       "2008-01-08 1,390.19    230.34\n",
       "...             ...       ...\n",
       "2017-12-22 2,683.34    321.21\n",
       "2017-12-26 2,680.50    318.89\n",
       "2017-12-27 2,682.62    320.25\n",
       "2017-12-28 2,687.54    324.74\n",
       "2017-12-29 2,673.61    324.74\n",
       "\n",
       "[2592 rows x 2 columns]"
      ]
     },
     "execution_count": 5,
     "metadata": {},
     "output_type": "execute_result"
    }
   ],
   "source": [
    "df"
   ]
  },
  {
   "cell_type": "code",
   "execution_count": 6,
   "metadata": {},
   "outputs": [],
   "source": [
    "trd = trading.PairTrade()\n",
    "cd = ['S&P500', 'KOSPI200']"
   ]
  },
  {
   "cell_type": "markdown",
   "metadata": {},
   "source": [
    "## regression 코드 "
   ]
  },
  {
   "cell_type": "code",
   "execution_count": 7,
   "metadata": {},
   "outputs": [
    {
     "data": {
      "text/plain": [
       "\"   ##### 싸이킷런 이용해서 구하지만 \\n def regression(self, sample, s_codes):\\n        sample.dropna(inplace=True)\\n        from sklearn.linear_model import LinearRegression\\n        x = sample[s_codes[0]]\\n        y = sample[s_codes[1]]\\n        # 1개 컬럼 np.array로 변환\\n        x = np.array(x).reshape(-1, 1)     <<<<<<<<<<<<<<<< 2차원 배열임 ()\\n        y = np.array(y).reshape(-1, 1)\\n        # Linear Regression\\n        regr = LinearRegression()\\n        regr.fit(x, y)\\n        result = {'Slope': regr.coef_[0, 0], 'Intercept': regr.intercept_[0], 'R2': regr.score(x, y)}\\n        # result = {'Slope':regr.coef_, 'Intercept':regr.intercept_, 'R2':regr.score(x, y) }\\n        return (result)\\n\""
      ]
     },
     "execution_count": 7,
     "metadata": {},
     "output_type": "execute_result"
    }
   ],
   "source": [
    "'''   ##### 싸이킷런 이용해서 구하지만 \n",
    " def regression(self, sample, s_codes):\n",
    "        sample.dropna(inplace=True)\n",
    "        from sklearn.linear_model import LinearRegression\n",
    "        x = sample[s_codes[0]]\n",
    "        y = sample[s_codes[1]]\n",
    "        # 1개 컬럼 np.array로 변환\n",
    "        x = np.array(x).reshape(-1, 1)     <<<<<<<<<<<<<<<< 2차원 배열임 ()\n",
    "        y = np.array(y).reshape(-1, 1)\n",
    "        # Linear Regression\n",
    "        regr = LinearRegression()\n",
    "        regr.fit(x, y)\n",
    "        result = {'Slope': regr.coef_[0, 0], 'Intercept': regr.intercept_[0], 'R2': regr.score(x, y)}\n",
    "        # result = {'Slope':regr.coef_, 'Intercept':regr.intercept_, 'R2':regr.score(x, y) }\n",
    "        return (result)\n",
    "'''"
   ]
  },
  {
   "cell_type": "code",
   "execution_count": 8,
   "metadata": {},
   "outputs": [
    {
     "name": "stdout",
     "output_type": "stream",
     "text": [
      "0.05431304230218623\n"
     ]
    }
   ],
   "source": [
    "regr = trd.regression(df, cd)\n",
    "print(regr['Slope'])"
   ]
  },
  {
   "cell_type": "markdown",
   "metadata": {},
   "source": [
    "## expected와 spread를 df에 추가"
   ]
  },
  {
   "cell_type": "code",
   "execution_count": 9,
   "metadata": {},
   "outputs": [],
   "source": [
    "df[cd[1]+' expected'] = df[cd[0]] * regr['Slope'] + regr['Intercept']\n",
    "df[cd[1]+' spread'] = df[cd[1]] - df[cd[1]+' expected']"
   ]
  },
  {
   "cell_type": "code",
   "execution_count": 10,
   "metadata": {},
   "outputs": [
    {
     "data": {
      "text/html": [
       "<div>\n",
       "<style scoped>\n",
       "    .dataframe tbody tr th:only-of-type {\n",
       "        vertical-align: middle;\n",
       "    }\n",
       "\n",
       "    .dataframe tbody tr th {\n",
       "        vertical-align: top;\n",
       "    }\n",
       "\n",
       "    .dataframe thead th {\n",
       "        text-align: right;\n",
       "    }\n",
       "</style>\n",
       "<table border=\"1\" class=\"dataframe\">\n",
       "  <thead>\n",
       "    <tr style=\"text-align: right;\">\n",
       "      <th></th>\n",
       "      <th>S&amp;P500</th>\n",
       "      <th>KOSPI200</th>\n",
       "      <th>KOSPI200 expected</th>\n",
       "      <th>KOSPI200 spread</th>\n",
       "    </tr>\n",
       "    <tr>\n",
       "      <th>Date</th>\n",
       "      <th></th>\n",
       "      <th></th>\n",
       "      <th></th>\n",
       "      <th></th>\n",
       "    </tr>\n",
       "  </thead>\n",
       "  <tbody>\n",
       "    <tr>\n",
       "      <th>2008-01-02</th>\n",
       "      <td>1,447.16</td>\n",
       "      <td>235.30</td>\n",
       "      <td>234.91</td>\n",
       "      <td>0.39</td>\n",
       "    </tr>\n",
       "    <tr>\n",
       "      <th>2008-01-03</th>\n",
       "      <td>1,447.16</td>\n",
       "      <td>234.67</td>\n",
       "      <td>234.91</td>\n",
       "      <td>-0.24</td>\n",
       "    </tr>\n",
       "    <tr>\n",
       "      <th>2008-01-04</th>\n",
       "      <td>1,411.63</td>\n",
       "      <td>235.77</td>\n",
       "      <td>232.98</td>\n",
       "      <td>2.79</td>\n",
       "    </tr>\n",
       "    <tr>\n",
       "      <th>2008-01-07</th>\n",
       "      <td>1,416.18</td>\n",
       "      <td>231.00</td>\n",
       "      <td>233.23</td>\n",
       "      <td>-2.23</td>\n",
       "    </tr>\n",
       "    <tr>\n",
       "      <th>2008-01-08</th>\n",
       "      <td>1,390.19</td>\n",
       "      <td>230.34</td>\n",
       "      <td>231.82</td>\n",
       "      <td>-1.48</td>\n",
       "    </tr>\n",
       "  </tbody>\n",
       "</table>\n",
       "</div>"
      ],
      "text/plain": [
       "             S&P500  KOSPI200  KOSPI200 expected  KOSPI200 spread\n",
       "Date                                                             \n",
       "2008-01-02 1,447.16    235.30             234.91             0.39\n",
       "2008-01-03 1,447.16    234.67             234.91            -0.24\n",
       "2008-01-04 1,411.63    235.77             232.98             2.79\n",
       "2008-01-07 1,416.18    231.00             233.23            -2.23\n",
       "2008-01-08 1,390.19    230.34             231.82            -1.48"
      ]
     },
     "execution_count": 10,
     "metadata": {},
     "output_type": "execute_result"
    }
   ],
   "source": [
    "df.head()"
   ]
  },
  {
   "cell_type": "markdown",
   "metadata": {},
   "source": [
    "## threshold 지정"
   ]
  },
  {
   "cell_type": "code",
   "execution_count": 11,
   "metadata": {},
   "outputs": [],
   "source": [
    "threshold = 0.03  ## 3퍼센트까지 허용하자"
   ]
  },
  {
   "cell_type": "markdown",
   "metadata": {},
   "source": [
    "## Trading book 생성과 기입"
   ]
  },
  {
   "cell_type": "code",
   "execution_count": 12,
   "metadata": {},
   "outputs": [
    {
     "data": {
      "text/html": [
       "<div>\n",
       "<style scoped>\n",
       "    .dataframe tbody tr th:only-of-type {\n",
       "        vertical-align: middle;\n",
       "    }\n",
       "\n",
       "    .dataframe tbody tr th {\n",
       "        vertical-align: top;\n",
       "    }\n",
       "\n",
       "    .dataframe thead th {\n",
       "        text-align: right;\n",
       "    }\n",
       "</style>\n",
       "<table border=\"1\" class=\"dataframe\">\n",
       "  <thead>\n",
       "    <tr style=\"text-align: right;\">\n",
       "      <th></th>\n",
       "      <th>S&amp;P500</th>\n",
       "      <th>KOSPI200</th>\n",
       "      <th>trade</th>\n",
       "      <th>p S&amp;P500</th>\n",
       "      <th>p KOSPI200</th>\n",
       "    </tr>\n",
       "    <tr>\n",
       "      <th>Date</th>\n",
       "      <th></th>\n",
       "      <th></th>\n",
       "      <th></th>\n",
       "      <th></th>\n",
       "      <th></th>\n",
       "    </tr>\n",
       "  </thead>\n",
       "  <tbody>\n",
       "    <tr>\n",
       "      <th>2008-01-02</th>\n",
       "      <td>1,447.16</td>\n",
       "      <td>235.30</td>\n",
       "      <td></td>\n",
       "      <td></td>\n",
       "      <td></td>\n",
       "    </tr>\n",
       "    <tr>\n",
       "      <th>2008-01-03</th>\n",
       "      <td>1,447.16</td>\n",
       "      <td>234.67</td>\n",
       "      <td></td>\n",
       "      <td></td>\n",
       "      <td></td>\n",
       "    </tr>\n",
       "    <tr>\n",
       "      <th>2008-01-04</th>\n",
       "      <td>1,411.63</td>\n",
       "      <td>235.77</td>\n",
       "      <td></td>\n",
       "      <td></td>\n",
       "      <td></td>\n",
       "    </tr>\n",
       "    <tr>\n",
       "      <th>2008-01-07</th>\n",
       "      <td>1,416.18</td>\n",
       "      <td>231.00</td>\n",
       "      <td></td>\n",
       "      <td></td>\n",
       "      <td></td>\n",
       "    </tr>\n",
       "    <tr>\n",
       "      <th>2008-01-08</th>\n",
       "      <td>1,390.19</td>\n",
       "      <td>230.34</td>\n",
       "      <td></td>\n",
       "      <td></td>\n",
       "      <td></td>\n",
       "    </tr>\n",
       "  </tbody>\n",
       "</table>\n",
       "</div>"
      ],
      "text/plain": [
       "             S&P500  KOSPI200 trade p S&P500 p KOSPI200\n",
       "Date                                                   \n",
       "2008-01-02 1,447.16    235.30                          \n",
       "2008-01-03 1,447.16    234.67                          \n",
       "2008-01-04 1,411.63    235.77                          \n",
       "2008-01-07 1,416.18    231.00                          \n",
       "2008-01-08 1,390.19    230.34                          "
      ]
     },
     "execution_count": 12,
     "metadata": {},
     "output_type": "execute_result"
    }
   ],
   "source": [
    "book = pd.DataFrame()\n",
    "book[cd] = df[cd]\n",
    "book['trade'] = ''\n",
    "book['p '+cd[0]] = ''\n",
    "book['p '+cd[1]] = ''\n",
    "book.head()"
   ]
  },
  {
   "cell_type": "markdown",
   "metadata": {},
   "source": [
    "## short position을 취할 수 있다고 가정하고 kospi 200만 trade하는 경우"
   ]
  },
  {
   "cell_type": "code",
   "execution_count": 13,
   "metadata": {},
   "outputs": [
    {
     "name": "stdout",
     "output_type": "stream",
     "text": [
      "             S&P500  KOSPI200          trade p S&P500 p KOSPI200\n",
      "Date                                                            \n",
      "2017-12-22 2,683.34    321.21  sell KOSPI200                    \n",
      "2017-12-26 2,680.50    318.89  sell KOSPI200                    \n",
      "2017-12-27 2,682.62    320.25  sell KOSPI200                    \n",
      "2017-12-28 2,687.54    324.74  sell KOSPI200                    \n",
      "2017-12-29 2,673.61    324.74  sell KOSPI200                    \n"
     ]
    }
   ],
   "source": [
    "for i in df.index:\n",
    "    thd = float( threshold * df.loc[i, cd[1]])\n",
    "    if df.loc[i, cd[1] + ' spread'] >thd:\n",
    "        book.loc[i, 'trade'] = 'sell ' +cd[1]  #### y인 kospi200을 개인이 short칠수 없으니까 buy 0 도 가능\n",
    "    elif threshold >= df.loc[i, cd[1] + ' spread'] and df.loc[i, cd[1] + ' spread'] >= 0:\n",
    "        book.loc[i, 'trade'] = ''\n",
    "    elif 0 > df.loc[i, cd[1] + ' spread'] and df.loc[i, cd[1] + ' spread'] >= -thd:\n",
    "        book.loc[i, 'trade'] = ''\n",
    "    elif -threshold > df.loc[i, cd[1] + ' spread']:\n",
    "        book.loc[i, 'trade'] = 'buy ' + cd[1]\n",
    "\n",
    "print(book.tail())"
   ]
  },
  {
   "cell_type": "markdown",
   "metadata": {},
   "source": [
    "## 포지션 입력"
   ]
  },
  {
   "cell_type": "code",
   "execution_count": 14,
   "metadata": {},
   "outputs": [
    {
     "name": "stdout",
     "output_type": "stream",
     "text": [
      "             S&P500  KOSPI200          trade p S&P500 p KOSPI200\n",
      "Date                                                            \n",
      "2008-01-02 1,447.16    235.30                      zz         zz\n",
      "2008-01-03 1,447.16    234.67                      zz         zz\n",
      "2008-01-04 1,411.63    235.77                      zz         zz\n",
      "2008-01-07 1,416.18    231.00                      zz         zz\n",
      "2008-01-08 1,390.19    230.34                      zz         zz\n",
      "...             ...       ...            ...      ...        ...\n",
      "2017-12-22 2,683.34    321.21  sell KOSPI200       zz         ss\n",
      "2017-12-26 2,680.50    318.89  sell KOSPI200       zz         ss\n",
      "2017-12-27 2,682.62    320.25  sell KOSPI200       zz         ss\n",
      "2017-12-28 2,687.54    324.74  sell KOSPI200       zz         ss\n",
      "2017-12-29 2,673.61    324.74  sell KOSPI200       zz         ss\n",
      "\n",
      "[2592 rows x 5 columns]\n"
     ]
    }
   ],
   "source": [
    "\n",
    "for c in cd:\n",
    "    status = ''\n",
    "    for i in book.index:\n",
    "        if book.loc[i, 'trade'] == 'buy ' + c: ##현재 buy일때\n",
    "            if book.shift(1).loc[i, 'trade'] == 'buy ' + c: ##직전일도 buy면\n",
    "                status = 'll'\n",
    "            elif book.shift(1).loc[i, 'trade'] == '': #제로면\n",
    "                status = 'zl'\n",
    "            elif book.shift(1).loc[i, 'trade'] == 'sell ' + c:\n",
    "                status = 'sl'\n",
    "            else: ###예외처리\n",
    "                status = 'zl'\n",
    "        elif book.loc[i, 'trade'] == 'sell ' + c:\n",
    "            if book.shift(1).loc[i, 'trade'] == 'buy ' + c:  ##직전일도 buy면\n",
    "                status = 'ls'\n",
    "            elif book.shift(1).loc[i, 'trade'] == '':  # 제로면\n",
    "                status = 'zs'\n",
    "            elif book.shift(1).loc[i, 'trade'] == 'sell ' + c:\n",
    "                status = 'ss'\n",
    "            else:  ###예외처리\n",
    "                status = 'zs'\n",
    "\n",
    "        elif book.loc[i, 'trade'] == '':\n",
    "            if book.shift(1).loc[i, 'trade'] == 'buy ' + c:  ##직전일도 buy면\n",
    "                status = 'lz'\n",
    "            elif book.shift(1).loc[i, 'trade'] == '':  # 제로면\n",
    "                status = 'zz'\n",
    "            elif book.shift(1).loc[i, 'trade'] == 'sell ' + c:\n",
    "                status = 'sz'\n",
    "            else:  ###예외처리\n",
    "                status = 'zz'\n",
    "        else:\n",
    "            status = 'zz'\n",
    "        book.loc[i, 'p '+ c] = status\n",
    "\n",
    "print(book)"
   ]
  },
  {
   "cell_type": "markdown",
   "metadata": {},
   "source": [
    "### 수익률 구하기(모듈짜는 연습)"
   ]
  },
  {
   "cell_type": "code",
   "execution_count": 15,
   "metadata": {},
   "outputs": [
    {
     "name": "stdout",
     "output_type": "stream",
     "text": [
      "             S&P500  KOSPI200          trade p S&P500 p KOSPI200  return  \\\n",
      "Date                                                                       \n",
      "2008-01-02 1,447.16    235.30                      zz         zz    1.00   \n",
      "2008-01-03 1,447.16    234.67                      zz         zz    1.00   \n",
      "2008-01-04 1,411.63    235.77                      zz         zz    1.00   \n",
      "2008-01-07 1,416.18    231.00                      zz         zz    1.00   \n",
      "2008-01-08 1,390.19    230.34                      zz         zz    1.00   \n",
      "...             ...       ...            ...      ...        ...     ...   \n",
      "2017-12-22 2,683.34    321.21  sell KOSPI200       zz         ss    1.00   \n",
      "2017-12-26 2,680.50    318.89  sell KOSPI200       zz         ss    1.00   \n",
      "2017-12-27 2,682.62    320.25  sell KOSPI200       zz         ss    1.00   \n",
      "2017-12-28 2,687.54    324.74  sell KOSPI200       zz         ss    1.00   \n",
      "2017-12-29 2,673.61    324.74  sell KOSPI200       zz         ss    1.00   \n",
      "\n",
      "            acc return  \n",
      "Date                    \n",
      "2008-01-02        1.00  \n",
      "2008-01-03        1.00  \n",
      "2008-01-04        1.00  \n",
      "2008-01-07        1.00  \n",
      "2008-01-08        1.00  \n",
      "...                ...  \n",
      "2017-12-22        1.15  \n",
      "2017-12-26        1.15  \n",
      "2017-12-27        1.15  \n",
      "2017-12-28        1.15  \n",
      "2017-12-29        1.15  \n",
      "\n",
      "[2592 rows x 7 columns]\n"
     ]
    }
   ],
   "source": [
    "\n",
    "rtn = 1.0\n",
    "book['return'] = 1\n",
    "\n",
    "\n",
    "for c in cd:\n",
    "    buy = 0.0   ###일단 초기화 해놓고\n",
    "    sell = 0.0\n",
    "    for i in book.index:\n",
    "        if book.loc[i, 'p '+c] == 'zl' or book.loc[i, 'p '+c] == 'sl' : ##롱으로 오늘 진입했어\n",
    "            buy = book.loc[i, c]  ##매수가격\n",
    "#            print(i.date(), 'long '+c, buy)\n",
    "        elif book.loc[i, 'p '+c] == 'lz' or book.loc[i, 'p '+c] == 'ls' : ## 롱 청산\n",
    "            sell = book.loc[i, c]\n",
    "            ##손익계산\n",
    "            rtn = sell/buy\n",
    "            book.loc[i, 'return'] = rtn\n",
    "#            print(i.date(), 'long '+ c, buy, '| unwind long '+c, sell, ' | return:',round(rtn, 4))\n",
    "\n",
    "        elif book.loc[i, 'p '+c] == 'zs' or book.loc[i, 'p '+c] == 'ls' : ## 숏 진입\n",
    "            sell = book.loc[i, c]  ##공매도 가격\n",
    "#            print(i.date(), 'short '+c, sell)\n",
    "        elif book.loc[i, 'p '+c] == 'sz' or book.loc[i, 'p '+c] == 'sl' : ## 숏 청산\n",
    "            buy = book.loc[i, c]  ##숏커버 가격\n",
    "            ##손익계산\n",
    "            rtn = buy / sell\n",
    "            book.loc[i, 'return'] = rtn\n",
    "#            print(i.date(), 'short ' + c, sell, '| unwind short ' + c, sell, ' | return:', round(rtn, 4))\n",
    "\n",
    "\n",
    "    if book.loc[i, 'trade'] == '' and book.loc[i, 'p '+c] == '': ##zero position일떄\n",
    "        buy = 0.0\n",
    "        sell = 0.0\n",
    "acc_rtn = 1.0\n",
    "for i in book.index:\n",
    "    rtn = book.loc[i, 'return']\n",
    "    acc_rtn = acc_rtn * rtn\n",
    "    book.loc[i, 'acc return'] = acc_rtn\n",
    "\n",
    "print(book)"
   ]
  },
  {
   "cell_type": "markdown",
   "metadata": {},
   "source": [
    "### 누적 수익률"
   ]
  },
  {
   "cell_type": "code",
   "execution_count": 16,
   "metadata": {},
   "outputs": [
    {
     "name": "stdout",
     "output_type": "stream",
     "text": [
      "Accumulated return : 1.152\n"
     ]
    }
   ],
   "source": [
    "print( 'Accumulated return :', round(acc_rtn,4))"
   ]
  },
  {
   "cell_type": "markdown",
   "metadata": {},
   "source": [
    "### 벤치마크 수익률"
   ]
  },
  {
   "cell_type": "code",
   "execution_count": 17,
   "metadata": {},
   "outputs": [
    {
     "name": "stdout",
     "output_type": "stream",
     "text": [
      "BM return: 1.6138\n",
      "{'S&P500': 1.8475, 'KOSPI200': 1.3801}\n"
     ]
    }
   ],
   "source": [
    "n = len(cd)\n",
    "rtn = dict()  ##딕셔너리 하나\n",
    "bm_rtn = float()\n",
    "for c in cd:\n",
    "    rtn[c] = round( book[c].iloc[-1] / book[c].iloc[0], 4)  ## 처음이랑 끝\n",
    "    bm_rtn += rtn[c]/n  ## 각종목 수익률 더해줌\n",
    "print('BM return:', round(bm_rtn, 4))\n",
    "print(rtn)"
   ]
  },
  {
   "cell_type": "markdown",
   "metadata": {},
   "source": [
    "### 초과 수익률"
   ]
  },
  {
   "cell_type": "code",
   "execution_count": 18,
   "metadata": {},
   "outputs": [
    {
     "name": "stdout",
     "output_type": "stream",
     "text": [
      "Excess return: -0.4618\n"
     ]
    }
   ],
   "source": [
    "exs_rtn = acc_rtn - bm_rtn\n",
    "print('Excess return:', round(exs_rtn, 4))"
   ]
  },
  {
   "cell_type": "markdown",
   "metadata": {},
   "source": [
    "### 시각화"
   ]
  },
  {
   "cell_type": "code",
   "execution_count": 19,
   "metadata": {},
   "outputs": [
    {
     "name": "stdout",
     "output_type": "stream",
     "text": [
      "()\n",
      "None\n"
     ]
    },
    {
     "data": {
      "image/png": "[encoded data removed]",
      "text/plain": [
       "<Figure size 1080x504 with 2 Axes>"
      ]
     },
     "metadata": {},
     "output_type": "display_data"
    },
    {
     "data": {
      "image/png": "[encoded data removed]",
      "text/plain": [
       "<Figure size 1080x72 with 1 Axes>"
      ]
     },
     "metadata": {},
     "output_type": "display_data"
    }
   ],
   "source": [
    "%matplotlib inline\n",
    "v = visualization.Visualize()\n",
    "print(v.pair_trend_index_view(df, threshold, cd))\n",
    "print(v.position_view(book, cd))"
   ]
  }
 ],
 "metadata": {
  "kernelspec": {
   "display_name": "Python 3",
   "language": "python",
   "name": "python3"
  },
  "language_info": {
   "codemirror_mode": {
    "name": "ipython",
    "version": 3
   },
   "file_extension": ".py",
   "mimetype": "text/x-python",
   "name": "python",
   "nbconvert_exporter": "python",
   "pygments_lexer": "ipython3",
   "version": "3.7.6"
  }
 },
 "nbformat": 4,
 "nbformat_minor": 4
}
