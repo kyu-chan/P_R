{
 "cells": [
  {
   "cell_type": "code",
   "execution_count": 3,
   "metadata": {},
   "outputs": [],
   "source": [
    "import matplotlib.pyplot as plt\n",
    "import pandas as pd\n",
    "import sys\n",
    "import os\n",
    "import matplotlib as pt\n",
    "import pykrx\n",
    "pt.use(\"Qt5Agg\") ##플랏\n",
    "sys.path.append(r'C:\\Users\\pc\\Desktop\\stock\\P_R\\wrapper')\n",
    "from wrapper import data_pred\n",
    "from wrapper import trading\n",
    "from wrapper import visualization"
   ]
  },
  {
   "cell_type": "markdown",
   "metadata": {},
   "source": [
    "### data 이름과 경로를 표준화하는 것이 훨씬 편함"
   ]
  },
  {
   "cell_type": "code",
   "execution_count": 4,
   "metadata": {},
   "outputs": [
    {
     "name": "stdout",
     "output_type": "stream",
     "text": [
      "              Price      Open      High       Low Vol. Change %\n",
      "Date                                                           \n",
      "19-Mar-21  3,913.10  3,913.14  3,930.12  3,886.75    -   -0.06%\n",
      "18-Mar-21  3,915.46  3,953.50  3,969.62  3,910.86    -   -1.48%\n",
      "17-Mar-21  3,974.12  3,949.57  3,983.87  3,935.74    -    0.29%\n",
      "16-Mar-21  3,962.71  3,973.59  3,981.04  3,953.44    -   -0.16%\n",
      "15-Mar-21  3,968.94  3,942.96  3,970.08  3,923.54    -    0.65%\n",
      "...             ...       ...       ...       ...  ...      ...\n",
      "26-Feb-16  1,948.05  1,954.95  1,962.96  1,945.78    -   -0.19%\n",
      "25-Feb-16  1,951.70  1,931.87  1,951.83  1,925.41    -    1.13%\n",
      "24-Feb-16  1,929.80  1,917.56  1,932.08  1,891.00    -    0.44%\n",
      "23-Feb-16  1,921.27  1,942.38  1,942.38  1,919.44    -   -1.25%\n",
      "22-Feb-16  1,945.50  1,924.44  1,946.70  1,924.44    -    1.45%\n",
      "\n",
      "[1279 rows x 6 columns]\n"
     ]
    }
   ],
   "source": [
    "path = 'C:/Users/pc/Desktop/stock/Modeling/Basic/data/'\n",
    "cd = 'S&P 500'\n",
    "file_name = path+cd+' Historical Data.csv'\n",
    "df = pd.read_csv(file_name, index_col='Date')\n",
    "print(df)"
   ]
  },
  {
   "cell_type": "code",
   "execution_count": 5,
   "metadata": {},
   "outputs": [
    {
     "name": "stdout",
     "output_type": "stream",
     "text": [
      "<class 'pandas.core.frame.DataFrame'>\n",
      "Index: 1279 entries, 19-Mar-21 to 22-Feb-16\n",
      "Data columns (total 6 columns):\n",
      " #   Column    Non-Null Count  Dtype \n",
      "---  ------    --------------  ----- \n",
      " 0   Price     1279 non-null   object\n",
      " 1   Open      1279 non-null   object\n",
      " 2   High      1279 non-null   object\n",
      " 3   Low       1279 non-null   object\n",
      " 4   Vol.      1279 non-null   object\n",
      " 5   Change %  1279 non-null   object\n",
      "dtypes: object(6)\n",
      "memory usage: 69.9+ KB\n"
     ]
    }
   ],
   "source": [
    "df.info()"
   ]
  },
  {
   "cell_type": "markdown",
   "metadata": {},
   "source": [
    "# 날짜 데이터 Datetime으로 변환 필요 \n",
    "\n",
    "# 모든 데이터 변환 필요"
   ]
  },
  {
   "cell_type": "code",
   "execution_count": 6,
   "metadata": {},
   "outputs": [
    {
     "name": "stdout",
     "output_type": "stream",
     "text": [
      "S&P 500 1279\n",
      "            S&P 500\n",
      "Date               \n",
      "2016-02-22 1,945.50\n",
      "2016-02-23 1,921.27\n",
      "2016-02-24 1,929.80\n",
      "2016-02-25 1,951.70\n",
      "2016-02-26 1,948.05\n",
      "...             ...\n",
      "2021-03-15 3,968.94\n",
      "2021-03-16 3,962.71\n",
      "2021-03-17 3,974.12\n",
      "2021-03-18 3,915.46\n",
      "2021-03-19 3,913.10\n",
      "\n",
      "[1279 rows x 1 columns]\n"
     ]
    }
   ],
   "source": [
    "###전처리\n",
    "ld = data_pred.LoadData()\n",
    "df = ld.date_formatting(df)\n",
    "df = ld.price_df_trimming(df, cd) ##시세만 때서 처리\n",
    "print(df)"
   ]
  },
  {
   "cell_type": "code",
   "execution_count": 7,
   "metadata": {},
   "outputs": [
    {
     "data": {
      "text/plain": [
       "\"\\n    def date_formatting(self, df):\\n        dates = []\\n        for i in df.index:\\n            # d = dt.datetime.strptime(df.iloc[i,0], '%b %d, %Y')     <-  문자열 datetime으로 바꿔줘\\n            # d = pd.to_datetime(df.iloc[i,0])                        <- 인덱스로 안들어가있으면?\\n            d = pd.to_datetime(i)\\n            dates.append(d)\\n        df['Date'] = dates  # Date 값 교체\\n        df = df.set_index('Date')\\n        # df = df.sort_index()\\n        return (df)\\n\""
      ]
     },
     "execution_count": 7,
     "metadata": {},
     "output_type": "execute_result"
    }
   ],
   "source": [
    "'''\n",
    "    def date_formatting(self, df):\n",
    "        dates = []\n",
    "        for i in df.index:\n",
    "            # d = dt.datetime.strptime(df.iloc[i,0], '%b %d, %Y')     <-  문자열 datetime으로 바꿔줘\n",
    "            # d = pd.to_datetime(df.iloc[i,0])                        <- 인덱스로 안들어가있으면?\n",
    "            d = pd.to_datetime(i)\n",
    "            dates.append(d)\n",
    "        df['Date'] = dates  # Date 값 교체\n",
    "        df = df.set_index('Date')\n",
    "        # df = df.sort_index()\n",
    "        return (df)\n",
    "'''"
   ]
  },
  {
   "cell_type": "code",
   "execution_count": 8,
   "metadata": {},
   "outputs": [
    {
     "data": {
      "text/plain": [
       "\"모듈을 적절히 쓸려면 column name을 잘 맞춰줘야겠다.\\n        def price_df_trimming(self, df, cd):\\n        prices = []\\n        for i in df.index:\\n            p = df['Price'].loc[i]\\n            try:\\n                p = p.replace(',', '')\\n            except:\\n                pass\\n            prices.append(float(p))\\n        print(cd, len(prices))\\n        df[cd] = prices\\n        df_new = pd.DataFrame(df[cd])\\n        # df = df.drop(df.columns[1:], axis=1)    <-price 빼 다른열 trimming\\n        df_new = df_new.sort_index()          \\n        return (df_new)\\n\""
      ]
     },
     "execution_count": 8,
     "metadata": {},
     "output_type": "execute_result"
    }
   ],
   "source": [
    "'''모듈을 적절히 쓸려면 column name을 잘 맞춰줘야겠다.\n",
    "        def price_df_trimming(self, df, cd):\n",
    "        prices = []\n",
    "        for i in df.index:\n",
    "            p = df['Price'].loc[i]\n",
    "            try:\n",
    "                p = p.replace(',', '')\n",
    "            except:\n",
    "                pass\n",
    "            prices.append(float(p))\n",
    "        print(cd, len(prices))\n",
    "        df[cd] = prices\n",
    "        df_new = pd.DataFrame(df[cd])\n",
    "        # df = df.drop(df.columns[1:], axis=1)    <-price 빼 다른열 trimming\n",
    "        df_new = df_new.sort_index()          \n",
    "        return (df_new)\n",
    "'''"
   ]
  },
  {
   "cell_type": "code",
   "execution_count": 9,
   "metadata": {},
   "outputs": [
    {
     "name": "stdout",
     "output_type": "stream",
     "text": [
      "<class 'pandas.core.frame.DataFrame'>\n",
      "DatetimeIndex: 1279 entries, 2016-02-22 to 2021-03-19\n",
      "Data columns (total 1 columns):\n",
      " #   Column   Non-Null Count  Dtype  \n",
      "---  ------   --------------  -----  \n",
      " 0   S&P 500  1279 non-null   float64\n",
      "dtypes: float64(1)\n",
      "memory usage: 20.0 KB\n"
     ]
    }
   ],
   "source": [
    "df.info()"
   ]
  },
  {
   "cell_type": "markdown",
   "metadata": {},
   "source": [
    "## 밴드계산"
   ]
  },
  {
   "cell_type": "code",
   "execution_count": 10,
   "metadata": {
    "scrolled": true
   },
   "outputs": [
    {
     "name": "stdout",
     "output_type": "stream",
     "text": [
      "            S&P 500   center       ub       lb\n",
      "Date                                          \n",
      "2016-02-22 1,945.50      nan      nan      nan\n",
      "2016-02-23 1,921.27      nan      nan      nan\n",
      "2016-02-24 1,929.80      nan      nan      nan\n",
      "2016-02-25 1,951.70      nan      nan      nan\n",
      "2016-02-26 1,948.05      nan      nan      nan\n",
      "...             ...      ...      ...      ...\n",
      "2021-03-15 3,968.94 3,882.89 3,989.35 3,776.43\n",
      "2021-03-16 3,962.71 3,884.40 3,994.60 3,774.19\n",
      "2021-03-17 3,974.12 3,886.54 4,002.11 3,770.97\n",
      "2021-03-18 3,915.46 3,886.61 4,002.26 3,770.96\n",
      "2021-03-19 3,913.10 3,886.93 4,002.85 3,771.01\n",
      "\n",
      "[1279 rows x 4 columns]\n"
     ]
    }
   ],
   "source": [
    "##볼린저 밴드 계산\n",
    "n = 20\n",
    "sigma = 2\n",
    "\n",
    "##센터라인\n",
    "df['center'] = df[cd].rolling(n).mean()\n",
    "##어퍼 bound\n",
    "df['ub'] = df['center'] + sigma*df[cd].rolling(n).std()\n",
    "##로워 bound\n",
    "df['lb'] = df['center'] - sigma*df[cd].rolling(n).std()\n",
    "print(df)"
   ]
  },
  {
   "cell_type": "markdown",
   "metadata": {},
   "source": [
    "#### 데이터를 너무 많이 손실시켜, 이미 그렇게 좋은 방법이라고 할 수 없겠다."
   ]
  },
  {
   "cell_type": "markdown",
   "metadata": {},
   "source": [
    "# Base_date 이후부터 잘라서 sample"
   ]
  },
  {
   "cell_type": "code",
   "execution_count": 11,
   "metadata": {},
   "outputs": [
    {
     "name": "stdout",
     "output_type": "stream",
     "text": [
      "            S&P 500   center       ub       lb\n",
      "Date                                          \n",
      "2018-01-23 2,839.13 2,747.20 2,854.10 2,640.30\n",
      "2018-01-24 2,837.54 2,754.91 2,864.63 2,645.20\n",
      "2018-01-25 2,839.25 2,762.85 2,872.87 2,652.84\n",
      "2018-01-26 2,872.87 2,772.36 2,886.01 2,658.72\n",
      "2018-01-29 2,853.53 2,780.66 2,892.46 2,668.87\n",
      "2018-01-30 2,822.43 2,788.10 2,889.19 2,687.01\n",
      "2018-01-31 2,823.81 2,794.50 2,886.82 2,702.19\n",
      "2018-02-01 2,821.98 2,799.95 2,884.56 2,715.34\n",
      "2018-02-02 2,762.13 2,801.86 2,880.79 2,722.92\n",
      "2018-02-05 2,648.94 2,797.15 2,898.80 2,695.49\n",
      "2018-02-06 2,695.14 2,794.52 2,903.98 2,685.06\n",
      "2018-02-07 2,681.66 2,791.04 2,910.28 2,671.80\n",
      "2018-02-08 2,581.00 2,782.67 2,933.76 2,631.59\n",
      "2018-02-09 2,619.55 2,775.27 2,943.05 2,607.50\n",
      "2018-02-12 2,656.00 2,768.76 2,944.66 2,592.86\n",
      "2018-02-13 2,662.94 2,763.09 2,945.16 2,581.02\n",
      "2018-02-14 2,698.63 2,757.89 2,941.15 2,574.64\n",
      "2018-02-15 2,731.20 2,754.55 2,937.16 2,571.94\n",
      "2018-02-16 2,732.22 2,750.65 2,931.57 2,569.72\n",
      "2018-02-20 2,716.26 2,744.81 2,922.04 2,567.58\n"
     ]
    }
   ],
   "source": [
    "\n",
    "base_date = '2018-01-08'\n",
    "sample = df[base_date:].copy()\n",
    "print(sample[10:30])\n"
   ]
  },
  {
   "cell_type": "markdown",
   "metadata": {},
   "source": [
    "## 기록장 생성"
   ]
  },
  {
   "cell_type": "code",
   "execution_count": 12,
   "metadata": {},
   "outputs": [
    {
     "data": {
      "text/html": [
       "<div>\n",
       "<style scoped>\n",
       "    .dataframe tbody tr th:only-of-type {\n",
       "        vertical-align: middle;\n",
       "    }\n",
       "\n",
       "    .dataframe tbody tr th {\n",
       "        vertical-align: top;\n",
       "    }\n",
       "\n",
       "    .dataframe thead th {\n",
       "        text-align: right;\n",
       "    }\n",
       "</style>\n",
       "<table border=\"1\" class=\"dataframe\">\n",
       "  <thead>\n",
       "    <tr style=\"text-align: right;\">\n",
       "      <th></th>\n",
       "      <th>S&amp;P 500</th>\n",
       "      <th>t S&amp;P 500</th>\n",
       "      <th>p S&amp;P 500</th>\n",
       "    </tr>\n",
       "    <tr>\n",
       "      <th>Date</th>\n",
       "      <th></th>\n",
       "      <th></th>\n",
       "      <th></th>\n",
       "    </tr>\n",
       "  </thead>\n",
       "  <tbody>\n",
       "    <tr>\n",
       "      <th>2018-01-08</th>\n",
       "      <td>2,747.71</td>\n",
       "      <td></td>\n",
       "      <td></td>\n",
       "    </tr>\n",
       "    <tr>\n",
       "      <th>2018-01-09</th>\n",
       "      <td>2,751.29</td>\n",
       "      <td></td>\n",
       "      <td></td>\n",
       "    </tr>\n",
       "    <tr>\n",
       "      <th>2018-01-10</th>\n",
       "      <td>2,748.23</td>\n",
       "      <td></td>\n",
       "      <td></td>\n",
       "    </tr>\n",
       "    <tr>\n",
       "      <th>2018-01-11</th>\n",
       "      <td>2,767.56</td>\n",
       "      <td></td>\n",
       "      <td></td>\n",
       "    </tr>\n",
       "    <tr>\n",
       "      <th>2018-01-12</th>\n",
       "      <td>2,786.24</td>\n",
       "      <td></td>\n",
       "      <td></td>\n",
       "    </tr>\n",
       "    <tr>\n",
       "      <th>...</th>\n",
       "      <td>...</td>\n",
       "      <td>...</td>\n",
       "      <td>...</td>\n",
       "    </tr>\n",
       "    <tr>\n",
       "      <th>2021-03-15</th>\n",
       "      <td>3,968.94</td>\n",
       "      <td></td>\n",
       "      <td></td>\n",
       "    </tr>\n",
       "    <tr>\n",
       "      <th>2021-03-16</th>\n",
       "      <td>3,962.71</td>\n",
       "      <td></td>\n",
       "      <td></td>\n",
       "    </tr>\n",
       "    <tr>\n",
       "      <th>2021-03-17</th>\n",
       "      <td>3,974.12</td>\n",
       "      <td></td>\n",
       "      <td></td>\n",
       "    </tr>\n",
       "    <tr>\n",
       "      <th>2021-03-18</th>\n",
       "      <td>3,915.46</td>\n",
       "      <td></td>\n",
       "      <td></td>\n",
       "    </tr>\n",
       "    <tr>\n",
       "      <th>2021-03-19</th>\n",
       "      <td>3,913.10</td>\n",
       "      <td></td>\n",
       "      <td></td>\n",
       "    </tr>\n",
       "  </tbody>\n",
       "</table>\n",
       "<p>805 rows × 3 columns</p>\n",
       "</div>"
      ],
      "text/plain": [
       "            S&P 500 t S&P 500 p S&P 500\n",
       "Date                                   \n",
       "2018-01-08 2,747.71                    \n",
       "2018-01-09 2,751.29                    \n",
       "2018-01-10 2,748.23                    \n",
       "2018-01-11 2,767.56                    \n",
       "2018-01-12 2,786.24                    \n",
       "...             ...       ...       ...\n",
       "2021-03-15 3,968.94                    \n",
       "2021-03-16 3,962.71                    \n",
       "2021-03-17 3,974.12                    \n",
       "2021-03-18 3,915.46                    \n",
       "2021-03-19 3,913.10                    \n",
       "\n",
       "[805 rows x 3 columns]"
      ]
     },
     "execution_count": 12,
     "metadata": {},
     "output_type": "execute_result"
    }
   ],
   "source": [
    "## trading book 생성\n",
    "trd = trading.Trade()\n",
    "trd.create_trade_book(sample,cd)"
   ]
  },
  {
   "cell_type": "markdown",
   "metadata": {},
   "source": [
    "## 조건 생성"
   ]
  },
  {
   "cell_type": "code",
   "execution_count": 13,
   "metadata": {},
   "outputs": [],
   "source": [
    "##trading 모듈에 bollinger_band로 생성\n",
    "trd.BB_trade(df, base_date,trd.book,cd,n,sigma)"
   ]
  },
  {
   "cell_type": "code",
   "execution_count": 14,
   "metadata": {},
   "outputs": [
    {
     "data": {
      "text/plain": [
       "\" 밴드를 기준으로 시그마 상한과 시그마 하한을 구분하고 뚫었을 때 의사결정을 한다.\\n    포지션의 경우 이전 포지션과 현재포지션을 구분해서 zero position일 경우의 의사결정도 반영한다.\\n\\n    def BB_trade(self, df, base_date, book, cd, n, sigma):\\n        ##센터라인\\n        df['center'] = df[cd].rolling(n).mean()\\n        df['ub'] = df['center'] + sigma * df[cd].rolling(n).std()\\n        df['lb'] = df['center'] - sigma * df[cd].rolling(n).std()\\n        sample = df[base_date:].copy()\\n        for i in sample.index:\\n            price = sample.loc[i, cd]\\n            if price > sample.loc[i, 'ub']:  ## 어퍼바운드 위면\\n                book.loc[i, 't '+cd] = '' ##일단 놔두고\\n            elif sample.loc[i, 'ub'] >= price and price >= sample.loc[i, 'lb']: #사이에 있을떄\\n                if book.shift(1).loc[i, 't '+cd] == 'buy' or book.shift(1).loc[i, 't '+cd] == 'ready': ##이미 매수상태면\\n                    book.loc[i, 't '+cd] = 'buy'  ##그대로 유지\\n                else:                          ###빈손상태면\\n                    book.loc[i, 't '+cd] = ''  ##그대로 유지, 일단 놔둬\\n            elif sample.loc[i, 'lb'] > price: #가격이 아래 바운더리 뚫으면\\n                if book.shift(1).loc[i, 't '+cd] == 'buy':\\n                    book.loc[i, 't '+cd] = 'buy'  #매수\\n                else:\\n                    book.loc[i, 't ' + cd] = 'ready'\\n        status = ''\\n        for i in book.index:\\n            if book.loc[i, 't '+cd] == 'buy': #매수상태면\\n                if book.shift(1).loc[i, 't '+cd] == 'buy':\\n                    status = 'll'\\n                elif book.shift(1).loc[i, 't '+cd] == '':\\n                    status = 'zl'\\n                else:\\n                    status = 'zl'\\n            elif book.loc[i, 't '+cd] == '':\\n                if book.shift(1).loc[i, 't '+cd] == 'buy':\\n                    status = 'lz'\\n                elif book.shift(1).loc[i, 't '+cd] == '':\\n                    status = 'zz'\\n                else:\\n                    status = 'zz'\\n            else:\\n                status = 'zz'\\n\\n            book.loc[i, 'p '+cd] = status\\n\\n\\n\""
      ]
     },
     "execution_count": 14,
     "metadata": {},
     "output_type": "execute_result"
    }
   ],
   "source": [
    "''' 밴드를 기준으로 시그마 상한과 시그마 하한을 구분하고 뚫었을 때 의사결정을 한다.\n",
    "    포지션의 경우 이전 포지션과 현재포지션을 구분해서 zero position일 경우의 의사결정도 반영한다.\n",
    "\n",
    "    def BB_trade(self, df, base_date, book, cd, n, sigma):\n",
    "        ##센터라인\n",
    "        df['center'] = df[cd].rolling(n).mean()\n",
    "        df['ub'] = df['center'] + sigma * df[cd].rolling(n).std()\n",
    "        df['lb'] = df['center'] - sigma * df[cd].rolling(n).std()\n",
    "        sample = df[base_date:].copy()\n",
    "        for i in sample.index:\n",
    "            price = sample.loc[i, cd]\n",
    "            if price > sample.loc[i, 'ub']:  ## 어퍼바운드 위면\n",
    "                book.loc[i, 't '+cd] = '' ##일단 놔두고\n",
    "            elif sample.loc[i, 'ub'] >= price and price >= sample.loc[i, 'lb']: #사이에 있을떄\n",
    "                if book.shift(1).loc[i, 't '+cd] == 'buy' or book.shift(1).loc[i, 't '+cd] == 'ready': ##이미 매수상태면\n",
    "                    book.loc[i, 't '+cd] = 'buy'  ##그대로 유지\n",
    "                else:                          ###빈손상태면\n",
    "                    book.loc[i, 't '+cd] = ''  ##그대로 유지, 일단 놔둬\n",
    "            elif sample.loc[i, 'lb'] > price: #가격이 아래 바운더리 뚫으면\n",
    "                if book.shift(1).loc[i, 't '+cd] == 'buy':\n",
    "                    book.loc[i, 't '+cd] = 'buy'  #매수\n",
    "                else:\n",
    "                    book.loc[i, 't ' + cd] = 'ready'\n",
    "        status = ''\n",
    "        for i in book.index:\n",
    "            if book.loc[i, 't '+cd] == 'buy': #매수상태면\n",
    "                if book.shift(1).loc[i, 't '+cd] == 'buy':\n",
    "                    status = 'll'\n",
    "                elif book.shift(1).loc[i, 't '+cd] == '':\n",
    "                    status = 'zl'\n",
    "                else:\n",
    "                    status = 'zl'\n",
    "            elif book.loc[i, 't '+cd] == '':\n",
    "                if book.shift(1).loc[i, 't '+cd] == 'buy':\n",
    "                    status = 'lz'\n",
    "                elif book.shift(1).loc[i, 't '+cd] == '':\n",
    "                    status = 'zz'\n",
    "                else:\n",
    "                    status = 'zz'\n",
    "            else:\n",
    "                status = 'zz'\n",
    "\n",
    "            book.loc[i, 'p '+cd] = status\n",
    "\n",
    "\n",
    "'''"
   ]
  },
  {
   "cell_type": "code",
   "execution_count": 15,
   "metadata": {},
   "outputs": [
    {
     "name": "stdout",
     "output_type": "stream",
     "text": [
      "            S&P 500 t S&P 500 p S&P 500\n",
      "Date                                   \n",
      "2018-01-08 2,747.71                  zz\n",
      "2018-01-09 2,751.29                  zz\n",
      "2018-01-10 2,748.23                  zz\n",
      "2018-01-11 2,767.56                  zz\n",
      "2018-01-12 2,786.24                  zz\n",
      "...             ...       ...       ...\n",
      "2021-03-15 3,968.94       buy        ll\n",
      "2021-03-16 3,962.71       buy        ll\n",
      "2021-03-17 3,974.12       buy        ll\n",
      "2021-03-18 3,915.46       buy        ll\n",
      "2021-03-19 3,913.10       buy        ll\n",
      "\n",
      "[805 rows x 3 columns]\n"
     ]
    }
   ],
   "source": [
    "print(trd.book)   ### 알파벳 앞쪽이 기존 포지션 뒤가 현재 포지션"
   ]
  },
  {
   "cell_type": "markdown",
   "metadata": {},
   "source": [
    "## 수익률 계산"
   ]
  },
  {
   "cell_type": "code",
   "execution_count": 16,
   "metadata": {},
   "outputs": [
    {
     "name": "stdout",
     "output_type": "stream",
     "text": [
      "\u001b[1;30;47mAccumulated return: 44.83 %\u001b[0m  ( # of trade: 8 , # of win: 7 , fee: 0.00 %, period: 3.19 yr )\n",
      "Avg return: 4.74 %\u001b[93m, Prob. of win: 87.50 %\u001b[0m, Kelly ratio: 75.00 %, MDD: -1.75 %\n",
      "            S&P 500 t S&P 500 p S&P 500  return  acc return\n",
      "Date                                                       \n",
      "2018-02-01 2,821.98                  zz    1.00        1.00\n",
      "2018-02-02 2,762.13                  zz    1.00        1.00\n",
      "2018-02-05 2,648.94     ready        zz    1.00        1.00\n",
      "2018-02-06 2,695.14       buy        zl    1.00        1.00\n",
      "2018-02-07 2,681.66       buy        ll    1.00        1.00\n",
      "...             ...       ...       ...     ...         ...\n",
      "2020-03-16 2,386.13       buy        ll    1.00        1.30\n",
      "2020-03-17 2,529.19       buy        ll    1.00        1.30\n",
      "2020-03-18 2,398.10       buy        ll    1.00        1.30\n",
      "2020-03-19 2,409.39       buy        ll    1.00        1.30\n",
      "2020-03-20 2,304.92       buy        ll    1.00        1.30\n",
      "\n",
      "[537 rows x 5 columns]\n"
     ]
    }
   ],
   "source": [
    "#수익률\n",
    "trd.returns(trd.book, cd)\n",
    "print(trd.book['2018-02-01':'2020-03-20'])\n"
   ]
  },
  {
   "cell_type": "markdown",
   "metadata": {},
   "source": [
    "## 벤치마크 수익률"
   ]
  },
  {
   "cell_type": "code",
   "execution_count": 17,
   "metadata": {},
   "outputs": [
    {
     "name": "stdout",
     "output_type": "stream",
     "text": [
      "BM return :  1.4241\n"
     ]
    }
   ],
   "source": [
    "###벤치마크 수익률\n",
    "bm_rtn = round( trd.book[cd].iloc[-1] / trd.book[cd].iloc[0], 4)\n",
    "print( \"BM return : \", bm_rtn )"
   ]
  },
  {
   "cell_type": "markdown",
   "metadata": {},
   "source": [
    "## 초과 수익률"
   ]
  },
  {
   "cell_type": "code",
   "execution_count": 18,
   "metadata": {},
   "outputs": [
    {
     "name": "stdout",
     "output_type": "stream",
     "text": [
      "Excess return :  0.0242\n"
     ]
    }
   ],
   "source": [
    "##초과수익률\n",
    "ACC_rtn = trd.book['acc return'].iloc[-1]\n",
    "exs_rtn = ACC_rtn - bm_rtn\n",
    "print( 'Excess return : ', round(exs_rtn, 4))"
   ]
  },
  {
   "cell_type": "markdown",
   "metadata": {},
   "source": [
    "# 시각화"
   ]
  },
  {
   "cell_type": "code",
   "execution_count": 19,
   "metadata": {},
   "outputs": [
    {
     "name": "stdout",
     "output_type": "stream",
     "text": [
      "None\n"
     ]
    },
    {
     "data": {
      "image/png": "[encoded data removed]",
      "text/plain": [
       "<Figure size 1080x504 with 1 Axes>"
      ]
     },
     "metadata": {},
     "output_type": "display_data"
    }
   ],
   "source": [
    "%matplotlib inline\n",
    "v = visualization.Visualize()\n",
    "print(v.BB_trend_view(sample, cd))"
   ]
  },
  {
   "cell_type": "markdown",
   "metadata": {},
   "source": [
    "## 언제 포지션을 들고 있었는지"
   ]
  },
  {
   "cell_type": "code",
   "execution_count": 20,
   "metadata": {
    "scrolled": true
   },
   "outputs": [
    {
     "name": "stdout",
     "output_type": "stream",
     "text": [
      "None\n"
     ]
    },
    {
     "data": {
      "image/png": "[encoded data removed]",
      "text/plain": [
       "<Figure size 1080x72 with 1 Axes>"
      ]
     },
     "metadata": {},
     "output_type": "display_data"
    }
   ],
   "source": [
    "print(v.position_view(trd.book, cd))"
   ]
  },
  {
   "cell_type": "markdown",
   "metadata": {},
   "source": [
    "## 개인 입장에서 short position을 취하지 못하는 상태로 전략을 코딩해서 윗쪽만 나옴\n"
   ]
  }
 ],
 "metadata": {
  "kernelspec": {
   "display_name": "Python 3",
   "language": "python",
   "name": "python3"
  },
  "language_info": {
   "codemirror_mode": {
    "name": "ipython",
    "version": 3
   },
   "file_extension": ".py",
   "mimetype": "text/x-python",
   "name": "python",
   "nbconvert_exporter": "python",
   "pygments_lexer": "ipython3",
   "version": "3.7.6"
  }
 },
 "nbformat": 4,
 "nbformat_minor": 4
}
