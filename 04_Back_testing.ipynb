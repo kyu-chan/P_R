{
 "cells": [
  {
   "cell_type": "code",
   "execution_count": 1,
   "metadata": {},
   "outputs": [],
   "source": [
    "import matplotlib.pyplot as plt\n",
    "import pandas as pd\n",
    "import sys\n",
    "import os\n",
    "import matplotlib as pt\n",
    "import pykrx\n",
    "pt.use(\"Qt5Agg\") ##플랏\n",
    "sys.path.append(r'C:\\Users\\pc\\Desktop\\stock\\P_R\\wrapper')\n",
    "from wrapper import data_pred\n",
    "from wrapper import trading\n",
    "from wrapper import visualization"
   ]
  },
  {
   "cell_type": "code",
   "execution_count": 4,
   "metadata": {
    "scrolled": true
   },
   "outputs": [
    {
     "name": "stdout",
     "output_type": "stream",
     "text": [
      "           Normal     GoGo  Inverse  Leverage\n",
      "Date                                         \n",
      "2019/01/01  1,000   500.00     1000       600\n",
      "2019/01/02  1,100   550.00      900       900\n",
      "2019/01/03  1,000   605.00     1000       600\n",
      "2019/01/04    900   665.50     1100       300\n",
      "2019/01/05   1000   732.05     1000       600\n",
      "2019/01/06   1100   805.25      900       900\n",
      "2019/01/07   1000   885.78     1000       600\n",
      "2019/01/08    900   974.36     1100       300\n",
      "2019/01/09   1000 1,071.79     1000       600\n",
      "2019/01/10   1100 1,178.97      900       900\n",
      "2019/01/11   1000 1,296.87     1000       600\n"
     ]
    }
   ],
   "source": [
    "file = 'Practice data.csv'\n",
    "path = 'C:/Users/pc/Desktop/stock/Modeling/Basic/data/'\n",
    "df = pd.read_csv(path+file, index_col='Date')\n",
    "print(df)  ##전처리 필요하겠네"
   ]
  },
  {
   "cell_type": "code",
   "execution_count": 5,
   "metadata": {},
   "outputs": [
    {
     "name": "stdout",
     "output_type": "stream",
     "text": [
      "<class 'pandas.core.frame.DataFrame'>\n",
      "Index: 11 entries, 2019/01/01 to 2019/01/11\n",
      "Data columns (total 4 columns):\n",
      " #   Column    Non-Null Count  Dtype  \n",
      "---  ------    --------------  -----  \n",
      " 0   Normal    11 non-null     object \n",
      " 1   GoGo      11 non-null     float64\n",
      " 2   Inverse   11 non-null     int64  \n",
      " 3   Leverage  11 non-null     int64  \n",
      "dtypes: float64(1), int64(2), object(1)\n",
      "memory usage: 440.0+ bytes\n"
     ]
    }
   ],
   "source": [
    "df.info()"
   ]
  },
  {
   "cell_type": "markdown",
   "metadata": {},
   "source": [
    "## Data formatting필요"
   ]
  },
  {
   "cell_type": "code",
   "execution_count": 3,
   "metadata": {},
   "outputs": [
    {
     "name": "stdout",
     "output_type": "stream",
     "text": [
      "           Normal     GoGo  Inverse  Leverage\n",
      "Date                                         \n",
      "2019-01-01  1,000   500.00     1000       600\n",
      "2019-01-02  1,100   550.00      900       900\n",
      "2019-01-03  1,000   605.00     1000       600\n",
      "2019-01-04    900   665.50     1100       300\n",
      "2019-01-05   1000   732.05     1000       600\n",
      "2019-01-06   1100   805.25      900       900\n",
      "2019-01-07   1000   885.78     1000       600\n",
      "2019-01-08    900   974.36     1100       300\n",
      "2019-01-09   1000 1,071.79     1000       600\n",
      "2019-01-10   1100 1,178.97      900       900\n",
      "2019-01-11   1000 1,296.87     1000       600\n"
     ]
    }
   ],
   "source": [
    "ld = data_pred.LoadData()\n",
    "df = ld.date_formatting(df)\n",
    "print(df)"
   ]
  },
  {
   "cell_type": "code",
   "execution_count": 7,
   "metadata": {},
   "outputs": [],
   "source": [
    "base_date = '2019-01-01'\n",
    "cd = 'Inverse' "
   ]
  },
  {
   "cell_type": "markdown",
   "metadata": {},
   "source": [
    "### 시각화"
   ]
  },
  {
   "cell_type": "code",
   "execution_count": 8,
   "metadata": {
    "scrolled": true
   },
   "outputs": [
    {
     "name": "stdout",
     "output_type": "stream",
     "text": [
      "None\n"
     ]
    },
    {
     "data": {
      "image/png": "[encoded data removed]",
      "text/plain": [
       "<Figure size 720x216 with 1 Axes>"
      ]
     },
     "metadata": {},
     "output_type": "display_data"
    }
   ],
   "source": [
    "%matplotlib inline\n",
    "v = visualization.Visualize()\n",
    "print(v.price_view(df, base_date, cd, (10,3)))"
   ]
  },
  {
   "cell_type": "markdown",
   "metadata": {},
   "source": [
    "###### x축 값 겹치는 것 처리\n",
    "###### 1000원 밑에서 사고 1000원 위에서 파는 단순한 전략 구현한다고 해보자"
   ]
  },
  {
   "cell_type": "code",
   "execution_count": 9,
   "metadata": {},
   "outputs": [
    {
     "name": "stdout",
     "output_type": "stream",
     "text": [
      "2019/01/02 buy\n",
      "2019/01/04 sel\n",
      "2019/01/06 buy\n",
      "2019/01/08 sel\n",
      "2019/01/10 buy\n"
     ]
    }
   ],
   "source": [
    "for i in df.index:\n",
    "    price = df.loc[i,cd]\n",
    "    if price < 1000:\n",
    "        print(i, 'buy')\n",
    "    elif price > 1000:\n",
    "        print(i, 'sel')"
   ]
  },
  {
   "cell_type": "markdown",
   "metadata": {},
   "source": [
    "#### 트레이딩 북 생성"
   ]
  },
  {
   "cell_type": "code",
   "execution_count": 11,
   "metadata": {},
   "outputs": [
    {
     "name": "stdout",
     "output_type": "stream",
     "text": [
      "            Inverse t Inverse p Inverse\n",
      "Date                                   \n",
      "2019/01/01     1000                    \n",
      "2019/01/02      900                    \n",
      "2019/01/03     1000                    \n",
      "2019/01/04     1100                    \n",
      "2019/01/05     1000                    \n",
      "2019/01/06      900                    \n",
      "2019/01/07     1000                    \n",
      "2019/01/08     1100                    \n",
      "2019/01/09     1000                    \n",
      "2019/01/10      900                    \n",
      "2019/01/11     1000                    \n"
     ]
    }
   ],
   "source": [
    "book = pd.DataFrame()\n",
    "book[cd] = df[cd]\n",
    "book['t ' +cd] = ''\n",
    "book['p ' +cd] = ''\n",
    "print(book)"
   ]
  },
  {
   "cell_type": "markdown",
   "metadata": {},
   "source": [
    "# TRD"
   ]
  },
  {
   "cell_type": "code",
   "execution_count": 12,
   "metadata": {},
   "outputs": [
    {
     "name": "stdout",
     "output_type": "stream",
     "text": [
      "            Inverse t Inverse p Inverse\n",
      "Date                                   \n",
      "2019/01/01     1000                    \n",
      "2019/01/02      900       buy          \n",
      "2019/01/03     1000       buy          \n",
      "2019/01/04     1100                    \n",
      "2019/01/05     1000                    \n",
      "2019/01/06      900       buy          \n",
      "2019/01/07     1000       buy          \n",
      "2019/01/08     1100                    \n",
      "2019/01/09     1000                    \n",
      "2019/01/10      900       buy          \n",
      "2019/01/11     1000       buy          \n"
     ]
    }
   ],
   "source": [
    "trd = trading.Trade()\n",
    "trd.create_trade_book(df, cd)\n",
    "#trd.book   객체에 잘 저장 됐구만\n",
    "trd.trade(df, trd.book, cd, 1000, 1000)\n",
    "print(trd.book)"
   ]
  },
  {
   "cell_type": "markdown",
   "metadata": {},
   "source": [
    "### Trading book에 포지션입력"
   ]
  },
  {
   "cell_type": "code",
   "execution_count": 13,
   "metadata": {},
   "outputs": [
    {
     "data": {
      "text/html": [
       "<div>\n",
       "<style scoped>\n",
       "    .dataframe tbody tr th:only-of-type {\n",
       "        vertical-align: middle;\n",
       "    }\n",
       "\n",
       "    .dataframe tbody tr th {\n",
       "        vertical-align: top;\n",
       "    }\n",
       "\n",
       "    .dataframe thead th {\n",
       "        text-align: right;\n",
       "    }\n",
       "</style>\n",
       "<table border=\"1\" class=\"dataframe\">\n",
       "  <thead>\n",
       "    <tr style=\"text-align: right;\">\n",
       "      <th></th>\n",
       "      <th>Inverse</th>\n",
       "      <th>t Inverse</th>\n",
       "      <th>p Inverse</th>\n",
       "    </tr>\n",
       "    <tr>\n",
       "      <th>Date</th>\n",
       "      <th></th>\n",
       "      <th></th>\n",
       "      <th></th>\n",
       "    </tr>\n",
       "  </thead>\n",
       "  <tbody>\n",
       "    <tr>\n",
       "      <th>2019/01/01</th>\n",
       "      <td>1000</td>\n",
       "      <td></td>\n",
       "      <td>zz</td>\n",
       "    </tr>\n",
       "    <tr>\n",
       "      <th>2019/01/02</th>\n",
       "      <td>900</td>\n",
       "      <td>buy</td>\n",
       "      <td>zl</td>\n",
       "    </tr>\n",
       "    <tr>\n",
       "      <th>2019/01/03</th>\n",
       "      <td>1000</td>\n",
       "      <td>buy</td>\n",
       "      <td>ll</td>\n",
       "    </tr>\n",
       "    <tr>\n",
       "      <th>2019/01/04</th>\n",
       "      <td>1100</td>\n",
       "      <td></td>\n",
       "      <td>lz</td>\n",
       "    </tr>\n",
       "    <tr>\n",
       "      <th>2019/01/05</th>\n",
       "      <td>1000</td>\n",
       "      <td></td>\n",
       "      <td>zz</td>\n",
       "    </tr>\n",
       "    <tr>\n",
       "      <th>2019/01/06</th>\n",
       "      <td>900</td>\n",
       "      <td>buy</td>\n",
       "      <td>zl</td>\n",
       "    </tr>\n",
       "    <tr>\n",
       "      <th>2019/01/07</th>\n",
       "      <td>1000</td>\n",
       "      <td>buy</td>\n",
       "      <td>ll</td>\n",
       "    </tr>\n",
       "    <tr>\n",
       "      <th>2019/01/08</th>\n",
       "      <td>1100</td>\n",
       "      <td></td>\n",
       "      <td>lz</td>\n",
       "    </tr>\n",
       "    <tr>\n",
       "      <th>2019/01/09</th>\n",
       "      <td>1000</td>\n",
       "      <td></td>\n",
       "      <td>zz</td>\n",
       "    </tr>\n",
       "    <tr>\n",
       "      <th>2019/01/10</th>\n",
       "      <td>900</td>\n",
       "      <td>buy</td>\n",
       "      <td>zl</td>\n",
       "    </tr>\n",
       "    <tr>\n",
       "      <th>2019/01/11</th>\n",
       "      <td>1000</td>\n",
       "      <td>buy</td>\n",
       "      <td>ll</td>\n",
       "    </tr>\n",
       "  </tbody>\n",
       "</table>\n",
       "</div>"
      ],
      "text/plain": [
       "            Inverse t Inverse p Inverse\n",
       "Date                                   \n",
       "2019/01/01     1000                  zz\n",
       "2019/01/02      900       buy        zl\n",
       "2019/01/03     1000       buy        ll\n",
       "2019/01/04     1100                  lz\n",
       "2019/01/05     1000                  zz\n",
       "2019/01/06      900       buy        zl\n",
       "2019/01/07     1000       buy        ll\n",
       "2019/01/08     1100                  lz\n",
       "2019/01/09     1000                  zz\n",
       "2019/01/10      900       buy        zl\n",
       "2019/01/11     1000       buy        ll"
      ]
     },
     "execution_count": 13,
     "metadata": {},
     "output_type": "execute_result"
    }
   ],
   "source": [
    "#### 포지션 표시를 정하자,  long(l), zero(z)- 안갖고있는거, short(s)\n",
    "#### 전날과 현재를 같이 표시해주자, zz면 어제 오늘 빈손, zl이면 어제 빈손 오늘 삼\n",
    "#### 오늘 포지션은 두번쨰 이니셜로\n",
    "trd.position(trd.book, cd)"
   ]
  },
  {
   "cell_type": "markdown",
   "metadata": {},
   "source": [
    "### 수익계산 코드 짜기"
   ]
  },
  {
   "cell_type": "code",
   "execution_count": null,
   "metadata": {},
   "outputs": [],
   "source": [
    "'''   ###### 지금까지는 fee가 없다고 가정했지만 fee가 있을 경우 반영해주어야 과도한 트레이딩을 막을 수 있다.\n",
    "    \n",
    "def returns(self, book, s_cd, display=False, report_name='', report={}, fee=0.0):\n",
    "        # 손익 계산\n",
    "        cds = common.str_list(s_cd)\n",
    "\n",
    "        rtn = 1.0\n",
    "        book['return'] = 1\n",
    "        no_trades = 0\n",
    "        no_win = 0\n",
    "\n",
    "        for c in cds:\n",
    "            buy = 0.0\n",
    "            sell = 0.0\n",
    "            for i in book.index:\n",
    "\n",
    "                if book.loc[i, 'p ' + c] == 'zl' or book.loc[i, 'p ' + c] == 'sl':  # long 진입\n",
    "                    buy = book.loc[i, c]\n",
    "                    if fee > 0.0:\n",
    "                        buy = round(buy * (1 + fee), 3)\n",
    "                    if display:\n",
    "                        print(i, 'long ' + c, buy)\n",
    "\n",
    "                elif book.loc[i, 'p ' + c] == 'lz' or book.loc[i, 'p ' + c] == 'ls':  # long 청산\n",
    "                    sell = book.loc[i, c]\n",
    "                    if fee > 0.0:\n",
    "                        sell = round(sell * (1 - fee), 3)\n",
    "                    # 손익 계산\n",
    "                    rtn = sell / buy\n",
    "                    book.loc[i, 'return'] = rtn\n",
    "                    no_trades += 1\n",
    "                    if rtn > 1:\n",
    "                        no_win += 1\n",
    "                    if display:\n",
    "                        print(i, 'long ' + c, buy, ' | unwind long ' + c, sell,\n",
    "                              ' | return: %0.2f' % (round(rtn - 1, 4) * 100))\n",
    "\n",
    "                elif book.loc[i, 'p ' + c] == 'zs' or book.loc[i, 'p ' + c] == 'ls':  # short 진입\n",
    "                    sell = book.loc[i, c]\n",
    "                    if fee > 0.0:\n",
    "                        sell = sell * (1 - fee)\n",
    "                    if display:\n",
    "                        print(i, 'short ' + c, sell)\n",
    "                elif book.loc[i, 'p ' + c] == 'sz' or book.loc[i, 'p ' + c] == 'sl':  # short 청산\n",
    "                    buy = book.loc[i, c]\n",
    "                    if fee > 0.0:\n",
    "                        buy = buy * (1 + fee)\n",
    "                    # 손익 계산\n",
    "                    rtn = buy / sell\n",
    "                    book.loc[i, 'return'] = rtn\n",
    "                    no_trades += 1\n",
    "                    if rtn > 1:\n",
    "                        no_win += 1\n",
    "                    if display:\n",
    "                        print(i, 'short ' + c, sell, ' | unwind short ' + c, buy,\n",
    "                              ' | return: %0.2f' % (round(rtn - 1, 4) * 100))\n",
    "\n",
    "            if book.loc[i, 't ' + c] == '' and book.loc[i, 'p ' + c] == '':  # zero position\n",
    "                buy = 0.0\n",
    "                sell = 0.0\n",
    "\n",
    "        # Accumulated return\n",
    "        acc_rtn = 1.0\n",
    "        for i in book.index:\n",
    "            rtn = book.loc[i, 'return']\n",
    "            acc_rtn = acc_rtn * rtn\n",
    "            book.loc[i, 'acc return'] = acc_rtn\n",
    "\n",
    "        first_day = pd.to_datetime(book.index[0])\n",
    "        last_day = pd.to_datetime(book.index[-1])\n",
    "        total_days = (last_day - first_day).days\n",
    "        annualizer = total_days / 365\n",
    "\n",
    "        print(common.FontStyle.bg_white + 'Accumulated return:', round((acc_rtn - 1) * 100, 2), '%' + common.FontStyle.end_bg, \\\n",
    "              ' ( # of trade:', no_trades, ', # of win:', no_win, ', fee: %.2f' % (fee * 100), \\\n",
    "              '%,', 'period: %.2f' % annualizer, 'yr )')\n",
    "\n",
    "        if no_trades > 0:\n",
    "            avg_rtn = acc_rtn ** (1 / no_trades)\n",
    "            prob_win = round((no_win / no_trades), 4)\n",
    "        else:\n",
    "            avg_rtn = 1.0\n",
    "            prob_win = 0.0\n",
    "        avg_rtn = round(avg_rtn, 4)\n",
    "\n",
    "        bet = common.Bet()\n",
    "        kelly_ratio = bet.kelly_formular(prob_win)            <--------------- common에 구현해놓음\n",
    "        kelly_ratio = round(kelly_ratio, 4)\n",
    "\n",
    "        print('Avg return: %.2f' % ((avg_rtn - 1) * 100), end=' %')\n",
    "        if prob_win > 0.5:\n",
    "            print(common.FontStyle.orange, end='')\n",
    "        print(', Prob. of win: %.2f' % (prob_win * 100), end=' %')\n",
    "        if prob_win > 0.5:\n",
    "            print(common.FontStyle.end_c, end='')\n",
    "        print(', Kelly ratio: %.2f' % (kelly_ratio * 100), end=' %')\n",
    "\n",
    "        mdd = round((book['return'].min()), 4)                     <-----------------최대 낙폭차, 리스크관리에 중요하겠지만,\n",
    "                                                                                    value at risk관점에서 볼 수 없을까??\n",
    "        print(', MDD: %.2f' % ((mdd - 1) * 100), '%')\n",
    "\n",
    "        if not report == {}:\n",
    "            report['acc_rtn'] = round((acc_rtn) * 100, 2)\n",
    "            report['no_trades'] = no_trades\n",
    "            report['avg_rtn'] = round((avg_rtn * 100), 2)\n",
    "            report['prob_win'] = round((prob_win * 100), 2)\n",
    "            report['kelly_ratio'] = round((kelly_ratio * 100), 2)\n",
    "            report['fee'] = round((fee * 100), 2)\n",
    "            report['mdd'] = round((mdd * 100), 2)\n",
    "\n",
    "        return round(acc_rtn, 4)\n",
    "\n",
    "'''"
   ]
  },
  {
   "cell_type": "code",
   "execution_count": 14,
   "metadata": {},
   "outputs": [
    {
     "name": "stdout",
     "output_type": "stream",
     "text": [
      "\u001b[1;30;47mAccumulated return: 49.38 %\u001b[0m  ( # of trade: 2 , # of win: 2 , fee: 0.00 %, period: 0.03 yr )\n",
      "Avg return: 22.22 %\u001b[93m, Prob. of win: 100.00 %\u001b[0m, Kelly ratio: 100.00 %, MDD: 0.00 %\n",
      "            Inverse t Inverse p Inverse  return  acc return\n",
      "Date                                                       \n",
      "2019/01/01     1000                  zz    1.00        1.00\n",
      "2019/01/02      900       buy        zl    1.00        1.00\n",
      "2019/01/03     1000       buy        ll    1.00        1.00\n",
      "2019/01/04     1100                  lz    1.22        1.22\n",
      "2019/01/05     1000                  zz    1.00        1.22\n",
      "2019/01/06      900       buy        zl    1.00        1.22\n",
      "2019/01/07     1000       buy        ll    1.00        1.22\n",
      "2019/01/08     1100                  lz    1.22        1.49\n",
      "2019/01/09     1000                  zz    1.00        1.49\n",
      "2019/01/10      900       buy        zl    1.00        1.49\n",
      "2019/01/11     1000       buy        ll    1.00        1.49\n"
     ]
    }
   ],
   "source": [
    "trd.returns(trd.book, cd)\n",
    "print(trd.book)    #### 무조건 이기니까 켈리 레이시오 1 :::최적에 베팅비율:: 1-패배율/순배당률\n",
    "                   ####  MDD 최대낙폭률"
   ]
  },
  {
   "cell_type": "code",
   "execution_count": null,
   "metadata": {},
   "outputs": [],
   "source": []
  },
  {
   "cell_type": "code",
   "execution_count": null,
   "metadata": {},
   "outputs": [],
   "source": []
  }
 ],
 "metadata": {
  "kernelspec": {
   "display_name": "Python 3",
   "language": "python",
   "name": "python3"
  },
  "language_info": {
   "codemirror_mode": {
    "name": "ipython",
    "version": 3
   },
   "file_extension": ".py",
   "mimetype": "text/x-python",
   "name": "python",
   "nbconvert_exporter": "python",
   "pygments_lexer": "ipython3",
   "version": "3.7.6"
  }
 },
 "nbformat": 4,
 "nbformat_minor": 4
}
